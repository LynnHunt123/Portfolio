{
 "cells": [
  {
   "cell_type": "code",
   "execution_count": 1,
   "id": "a3fd8d99-91f0-49bb-9255-8a32cc2f7f3d",
   "metadata": {},
   "outputs": [],
   "source": [
    "import os\n",
    "import numpy as np\n",
    "import pandas as pd\n",
    "import matplotlib.pyplot as plt\n",
    "import seaborn as sns"
   ]
  },
  {
   "cell_type": "code",
   "execution_count": 1,
   "id": "f8a0cc41-aa58-437e-9c28-cb93917185da",
   "metadata": {},
   "outputs": [],
   "source": [
    "class util_plot:\n",
    "    # global members:\n",
    "    \n",
    "    def __init__(self, dim):\n",
    "        self.hasAx = False\n",
    "        self.fig, self.ax = None, None\n",
    "        (self.length, self.width) = dim\n",
    "        \n",
    "        \n",
    "    def addAx(self):\n",
    "        if not self.hasAx:\n",
    "            self.fig, self.ax = plt.subplots(length, width, figsize = [23,6])"
   ]
  },
  {
   "cell_type": "code",
   "execution_count": 2,
   "id": "1797bc66-3514-4dd9-a4a0-d9495d6b3240",
   "metadata": {},
   "outputs": [
    {
     "data": {
      "text/plain": [
       "<__main__.util_plot at 0x21308971b20>"
      ]
     },
     "execution_count": 2,
     "metadata": {},
     "output_type": "execute_result"
    }
   ],
   "source": [
    "util_plot(dim = [12,6]).addAx()"
   ]
  },
  {
   "cell_type": "code",
   "execution_count": null,
   "id": "45f35f4a-26fb-494b-9b54-a68f445abac4",
   "metadata": {},
   "outputs": [],
   "source": []
  }
 ],
 "metadata": {
  "kernelspec": {
   "display_name": "Python 3",
   "language": "python",
   "name": "python3"
  },
  "language_info": {
   "codemirror_mode": {
    "name": "ipython",
    "version": 3
   },
   "file_extension": ".py",
   "mimetype": "text/x-python",
   "name": "python",
   "nbconvert_exporter": "python",
   "pygments_lexer": "ipython3",
   "version": "3.9.1"
  }
 },
 "nbformat": 4,
 "nbformat_minor": 5
}
